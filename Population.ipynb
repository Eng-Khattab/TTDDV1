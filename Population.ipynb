{
 "cells": [
  {
   "cell_type": "code",
   "execution_count": 1,
   "metadata": {
    "scrolled": true
   },
   "outputs": [],
   "source": [
    "import csv \n",
    "import os\n",
    "import numpy as np\n",
    "import random\n",
    "from sklearn.metrics import roc_curve\n",
    "import math\n",
    "from matplotlib import pyplot\n",
    "import datetime\n",
    "from sklearn.metrics import auc, roc_curve, roc_auc_score\n",
    "import pandas as pd\n",
    "import matplotlib.pyplot as plt\n",
    "from dateutil.parser import parse \n",
    "import matplotlib as mpl\n",
    "import seaborn as sns\n",
    "from pandas import DataFrame\n",
    "from sklearn import preprocessing\n",
    "from sklearn.preprocessing import MinMaxScaler\n",
    "from statsmodels.tsa.stattools import adfuller, kpss\n",
    "from statsmodels.tsa.seasonal import seasonal_decompose\n",
    "from dateutil.parser import parse\n",
    "from scipy.signal import find_peaks\n",
    "import plotly.graph_objects as go\n",
    "from scipy import fft\n",
    "from scipy import signal as sig\n",
    "from scipy.stats import multivariate_normal\n",
    "from sklearn.datasets import make_classification\n",
    "from sklearn.model_selection import train_test_split\n",
    "from sklearn.datasets import make_classification\n",
    "from sklearn.metrics import f1_score\n",
    "from numpy import arange\n",
    "from math import sqrt\n",
    "from numpy import argmax\n",
    "import random as rn\n",
    "import h2o\n",
    "from sklearn.metrics import accuracy_score\n",
    "import seaborn as sb\n",
    "from sklearn.metrics import precision_recall_curve\n",
    "sb.set_style(style=\"whitegrid\")\n",
    "sb.set_color_codes()\n",
    "import scipy.ndimage\n",
    "from scipy.fftpack import rfft, irfft, fftfreq, fft, ifft"
   ]
  },
  {
   "cell_type": "code",
   "execution_count": 2,
   "metadata": {},
   "outputs": [
    {
     "name": "stdout",
     "output_type": "stream",
     "text": [
      "Checking whether there is an H2O instance running at http://localhost:54321 ..... not found.\n",
      "Attempting to start a local H2O server...\n",
      "; Java HotSpot(TM) 64-Bit Server VM (build 25.321-b07, mixed mode)\n",
      "  Starting server from C:\\Users\\khattab\\Anaconda3\\Lib\\site-packages\\h2o\\backend\\bin\\h2o.jar\n",
      "  Ice root: C:\\Users\\khattab\\AppData\\Local\\Temp\\tmp9wwmus26\n",
      "  JVM stdout: C:\\Users\\khattab\\AppData\\Local\\Temp\\tmp9wwmus26\\h2o_khattab_started_from_python.out\n",
      "  JVM stderr: C:\\Users\\khattab\\AppData\\Local\\Temp\\tmp9wwmus26\\h2o_khattab_started_from_python.err\n",
      "  Server is running at http://127.0.0.1:54321\n",
      "Connecting to H2O server at http://127.0.0.1:54321 ... successful.\n"
     ]
    },
    {
     "data": {
      "text/html": [
       "<div style=\"overflow:auto\"><table style=\"width:50%\"><tr><td>H2O_cluster_uptime:</td>\n",
       "<td>03 secs</td></tr>\n",
       "<tr><td>H2O_cluster_timezone:</td>\n",
       "<td>Africa/Cairo</td></tr>\n",
       "<tr><td>H2O_data_parsing_timezone:</td>\n",
       "<td>UTC</td></tr>\n",
       "<tr><td>H2O_cluster_version:</td>\n",
       "<td>3.36.0.2</td></tr>\n",
       "<tr><td>H2O_cluster_version_age:</td>\n",
       "<td>2 months and 9 days </td></tr>\n",
       "<tr><td>H2O_cluster_name:</td>\n",
       "<td>H2O_from_python_khattab_gp65pd</td></tr>\n",
       "<tr><td>H2O_cluster_total_nodes:</td>\n",
       "<td>1</td></tr>\n",
       "<tr><td>H2O_cluster_free_memory:</td>\n",
       "<td>1.749 Gb</td></tr>\n",
       "<tr><td>H2O_cluster_total_cores:</td>\n",
       "<td>4</td></tr>\n",
       "<tr><td>H2O_cluster_allowed_cores:</td>\n",
       "<td>4</td></tr>\n",
       "<tr><td>H2O_cluster_status:</td>\n",
       "<td>locked, healthy</td></tr>\n",
       "<tr><td>H2O_connection_url:</td>\n",
       "<td>http://127.0.0.1:54321</td></tr>\n",
       "<tr><td>H2O_connection_proxy:</td>\n",
       "<td>{\"http\": null, \"https\": null}</td></tr>\n",
       "<tr><td>H2O_internal_security:</td>\n",
       "<td>False</td></tr>\n",
       "<tr><td>H2O_API_Extensions:</td>\n",
       "<td>Amazon S3, Algos, Infogram, AutoML, Core V3, TargetEncoder, Core V4</td></tr>\n",
       "<tr><td>Python_version:</td>\n",
       "<td>3.8.8 final</td></tr></table></div>"
      ],
      "text/plain": [
       "--------------------------  -------------------------------------------------------------------\n",
       "H2O_cluster_uptime:         03 secs\n",
       "H2O_cluster_timezone:       Africa/Cairo\n",
       "H2O_data_parsing_timezone:  UTC\n",
       "H2O_cluster_version:        3.36.0.2\n",
       "H2O_cluster_version_age:    2 months and 9 days\n",
       "H2O_cluster_name:           H2O_from_python_khattab_gp65pd\n",
       "H2O_cluster_total_nodes:    1\n",
       "H2O_cluster_free_memory:    1.749 Gb\n",
       "H2O_cluster_total_cores:    4\n",
       "H2O_cluster_allowed_cores:  4\n",
       "H2O_cluster_status:         locked, healthy\n",
       "H2O_connection_url:         http://127.0.0.1:54321\n",
       "H2O_connection_proxy:       {\"http\": null, \"https\": null}\n",
       "H2O_internal_security:      False\n",
       "H2O_API_Extensions:         Amazon S3, Algos, Infogram, AutoML, Core V3, TargetEncoder, Core V4\n",
       "Python_version:             3.8.8 final\n",
       "--------------------------  -------------------------------------------------------------------"
      ]
     },
     "metadata": {},
     "output_type": "display_data"
    }
   ],
   "source": [
    "import h2o\n",
    "from h2o.estimators import H2OExtendedIsolationForestEstimator\n",
    "h2o.init()\n",
    "\n"
   ]
  },
  {
   "cell_type": "code",
   "execution_count": 3,
   "metadata": {},
   "outputs": [],
   "source": [
    "import pandas as pd\n",
    "scaler = preprocessing.MinMaxScaler()\n",
    "\n",
    "df2= pd.read_csv(\"F://phd//download//TTDD-main//TTDD-main//SDWA_PUB_WATER_SYSTEM.csv\")\n",
    "polution=df2.values[:,0:3]\n",
    "\n"
   ]
  },
  {
   "cell_type": "code",
   "execution_count": 4,
   "metadata": {},
   "outputs": [
    {
     "name": "stdout",
     "output_type": "stream",
     "text": [
      "          0           1     2\n",
      "0      2014  Very Small   480\n",
      "1      2013  Very Small   480\n",
      "2      2012  Very Small   480\n",
      "3      2011  Very Small   480\n",
      "4      2015       Small  2445\n",
      "...     ...         ...   ...\n",
      "99995  2011  Very Small    25\n",
      "99996  2015       Small   870\n",
      "99997  2014  Very Small    25\n",
      "99998  2013  Very Small    25\n",
      "99999  2012  Very Small    25\n",
      "\n",
      "[100000 rows x 3 columns]\n",
      "             0\n",
      "0     0.001467\n",
      "1     0.001467\n",
      "2     0.001467\n",
      "3     0.007341\n",
      "4     0.000192\n",
      "...        ...\n",
      "9995  0.000190\n",
      "9996  0.000190\n",
      "9997  0.000190\n",
      "9998  0.000190\n",
      "9999  0.000635\n",
      "\n",
      "[10000 rows x 1 columns]\n"
     ]
    },
    {
     "data": {
      "text/plain": [
       "Text(0.5, 1.0, 'polution')"
      ]
     },
     "execution_count": 4,
     "metadata": {},
     "output_type": "execute_result"
    },
    {
     "data": {
      "text/plain": [
       "<Figure size 1600x800 with 0 Axes>"
      ]
     },
     "metadata": {},
     "output_type": "display_data"
    },
    {
     "data": {
      "image/png": "[encoded data removed]",
      "text/plain": [
       "<Figure size 432x288 with 1 Axes>"
      ]
     },
     "metadata": {},
     "output_type": "display_data"
    }
   ],
   "source": [
    "\n",
    "\n",
    "polution = pd.DataFrame(df2) \n",
    "#print(Nile)\n",
    "polution = DataFrame(polution.values[0:100000,0:3])\n",
    "print(polution)\n",
    "polutiontest = DataFrame(polution.values[20000:30000,2:3])\n",
    "polutiontest=DataFrame(scaler.fit_transform(polutiontest))\n",
    "poltest=polutiontest\n",
    "print(polutiontest)\n",
    "pol = DataFrame(polution.values[0:100000,2:3])\n",
    "pol=DataFrame(scaler.fit_transform(pol)) \n",
    "plt.figure(figsize=(20, 10), dpi=80)\n",
    "pol.plot()\n",
    "plt.xlabel('Index') \n",
    "plt.ylabel('Scaled Amplitude') \n",
    "plt.title(\"polution\", color='g')\n",
    "\n"
   ]
  },
  {
   "cell_type": "code",
   "execution_count": 5,
   "metadata": {},
   "outputs": [],
   "source": [
    "\n",
    "import statsmodels\n",
    "from statsmodels.tsa.stattools import adfuller\n",
    "class StationarityTests:\n",
    "    def __init__(self, significance=.05):\n",
    "        self.SignificanceLevel = significance\n",
    "        self.pValue = None\n",
    "        self.isStationary = None\n",
    "    def ADF_Stationarity_Test(self, timeseries, printResults = True):\n",
    "        #Dickey-Fuller test:\n",
    "        adfTest = adfuller(timeseries)\n",
    "        \n",
    "        self.pValue = adfTest[1]\n",
    "        \n",
    "        if (self.pValue<self.SignificanceLevel):\n",
    "            self.isStationary = True\n",
    "        else:\n",
    "            self.isStationary = False\n",
    "        \n",
    "        if printResults:\n",
    "            dfResults = pd.Series(adfTest[0:4], index=['ADF Test Statistic','P-Value','# Lags Used','# Observations Used'])\n",
    "            #Add Critical Values\n",
    "            for key,value in adfTest[4].items():\n",
    "                dfResults['Critical Value (%s)'%key] = value\n",
    "            print('Augmented Dickey-Fuller Test Results:')\n",
    "            print(dfResults)\n",
    "sTest = StationarityTests()\n",
    "            \n",
    "\n",
    "# KPSS Test\n",
    "from statsmodels.tsa.stattools import kpss\n",
    "def kpss_test(series, **kw):    \n",
    "    statistic, p_value, n_lags, critical_values = kpss(series, **kw,nlags=len(series)-1)\n",
    "    # Format Output\n",
    "    print(f'KPSS Statistic: {statistic}')\n",
    "    print(f'p-value: {p_value}')\n",
    "    print(f'num lags: {n_lags}')\n",
    "    print('Critial Values:')\n",
    "    for key, value in critical_values.items():\n",
    "        print(f'   {key} : {value}')\n",
    "    print(f'Result: The series is {\"not \" if p_value < 0.04 else \"\"}stationary')\n",
    "\n"
   ]
  },
  {
   "cell_type": "code",
   "execution_count": 6,
   "metadata": {},
   "outputs": [
    {
     "name": "stdout",
     "output_type": "stream",
     "text": [
      "Augmented Dickey-Fuller Test Results:\n",
      "ADF Test Statistic        -90.602279\n",
      "P-Value                     0.000000\n",
      "# Lags Used                 9.000000\n",
      "# Observations Used     99990.000000\n",
      "Critical Value (1%)        -3.430415\n",
      "Critical Value (5%)        -2.861569\n",
      "Critical Value (10%)       -2.566785\n",
      "dtype: float64\n",
      "Is the time series stationary? True\n",
      "KPSS Statistic: 0.4999999999997774\n",
      "p-value: 0.041666666666716805\n",
      "num lags: 99999\n",
      "Critial Values:\n",
      "   10% : 0.347\n",
      "   5% : 0.463\n",
      "   2.5% : 0.574\n",
      "   1% : 0.739\n",
      "Result: The series is stationary\n"
     ]
    }
   ],
   "source": [
    "\n",
    "sTest.ADF_Stationarity_Test(pol, printResults = True)\n",
    "print(\"Is the time series stationary? {0}\".format(sTest.isStationary))\n",
    "kpss_test(pol)\n"
   ]
  },
  {
   "cell_type": "code",
   "execution_count": 7,
   "metadata": {},
   "outputs": [
    {
     "name": "stdout",
     "output_type": "stream",
     "text": [
      "Parse progress: |████████████████████████████████████████████████████████████████| (done) 100%\n",
      "extendedisolationforest Model Build progress: |██████████████████████████████████| (done) 100%\n",
      "Parse progress: |████████████████████████████████████████████████████████████████| (done) 100%\n",
      "extendedisolationforest prediction progress: |███████████████████████████████████| (done) 100%\n",
      "10000 "
     ]
    },
    {
     "data": {
      "text/html": [
       "<table>\n",
       "<thead>\n",
       "<tr><th style=\"text-align: right;\">  anomaly_score</th></tr>\n",
       "</thead>\n",
       "<tbody>\n",
       "<tr><td style=\"text-align: right;\">       0.67373 </td></tr>\n",
       "<tr><td style=\"text-align: right;\">       0.67373 </td></tr>\n",
       "<tr><td style=\"text-align: right;\">       0.67373 </td></tr>\n",
       "<tr><td style=\"text-align: right;\">       0.78243 </td></tr>\n",
       "<tr><td style=\"text-align: right;\">       0.475196</td></tr>\n",
       "<tr><td style=\"text-align: right;\">       0.475196</td></tr>\n",
       "<tr><td style=\"text-align: right;\">       0.475196</td></tr>\n",
       "<tr><td style=\"text-align: right;\">       0.475196</td></tr>\n",
       "<tr><td style=\"text-align: right;\">       0.54122 </td></tr>\n",
       "<tr><td style=\"text-align: right;\">       0.537152</td></tr>\n",
       "</tbody>\n",
       "</table>"
      ]
     },
     "metadata": {},
     "output_type": "display_data"
    },
    {
     "name": "stdout",
     "output_type": "stream",
     "text": [
      "\n"
     ]
    }
   ],
   "source": [
    "\n",
    "from sklearn.metrics import confusion_matrix\n",
    "pol = h2o.H2OFrame(pol)\n",
    "\n",
    "pol=pol.fillna()\n",
    "\n",
    "\n",
    "predictors = pol.col_names\n",
    "\n",
    "# Define an Extended Isolation forest model\n",
    "eif = H2OExtendedIsolationForestEstimator(ntrees =300,\n",
    "                                          sample_size = 50)\n",
    "\n",
    "#Train Extended Isolation Forest\n",
    "eif.train(x = predictors, training_frame = pol)\n",
    "polutiontest = h2o.H2OFrame(polutiontest)\n",
    "\n",
    "eif_result = eif.predict(polutiontest.fillna())\n",
    "\n",
    "\n",
    "\n",
    "anomaly_score = eif_result[\"anomaly_score\"]\n",
    "print(len(anomaly_score),anomaly_score)\n",
    "\n",
    "# Average path length  of the point in Isolation Trees from root to the leaf\n",
    "mean_length = eif_result[\"mean_length\"]\n",
    "\n"
   ]
  },
  {
   "cell_type": "code",
   "execution_count": 8,
   "metadata": {},
   "outputs": [
    {
     "name": "stdout",
     "output_type": "stream",
     "text": [
      "      anomaly_score\n",
      "0          0.673730\n",
      "1          0.673730\n",
      "2          0.673730\n",
      "3          0.782430\n",
      "4          0.475196\n",
      "...             ...\n",
      "9995       0.473470\n",
      "9996       0.473470\n",
      "9997       0.473470\n",
      "9998       0.473470\n",
      "9999       0.595008\n",
      "\n",
      "[10000 rows x 1 columns]\n",
      "Parse progress: |████████████████████████████████████████████████████████████████| (done) 100%\n",
      "0.9999641602752491\n",
      "Threshold value is: 0.8415524763345538\n"
     ]
    }
   ],
   "source": [
    "rr=polution.values[20000:30000,2:3]\n",
    "for j in range(0,10000):\n",
    " if (polution.values[j+20000,1:2]== 'Very Large' ):\n",
    "  rr[j] = 1\n",
    " else:\n",
    "  rr[j] =0\n",
    "\n",
    "\n",
    "dd=h2o.as_list(anomaly_score)\n",
    "dds=dd\n",
    "print(dds)\n",
    "ff=h2o.as_list(h2o.H2OFrame(rr))\n",
    "\n",
    "fpr, tpr, thresholds = roc_curve(ff,dd)\n",
    "\n",
    "print(roc_auc_score(ff,dd))\n",
    "optimal_idx = np.argmax(tpr - fpr)\n",
    "optimal_threshold = thresholds[optimal_idx]\n",
    "print(\"Threshold value is:\", optimal_threshold)\n"
   ]
  },
  {
   "cell_type": "code",
   "execution_count": 9,
   "metadata": {},
   "outputs": [],
   "source": [
    "testlevel=pd.DataFrame(ff[\"C1\"],columns=[\"C1\"])\n",
    "typlevel=pd.DataFrame(dd,columns=[\"anomaly_score\"])\n",
    "optimal_cond=optimal_threshold\n",
    "\n",
    "for j in range(len(typlevel)):\n",
    " #typlevel[j][\"mean_length\"] \n",
    " if typlevel[\"anomaly_score\"][j]>=optimal_threshold:\n",
    "   typlevel[\"anomaly_score\"][j]=1\n",
    " else:\n",
    "   typlevel[\"anomaly_score\"][j]  =0\n",
    "\n",
    "pp=(np.array(typlevel))"
   ]
  },
  {
   "cell_type": "code",
   "execution_count": 10,
   "metadata": {},
   "outputs": [
    {
     "name": "stdout",
     "output_type": "stream",
     "text": [
      "F1 Score: 0.933\n",
      "accuracy_score normalize: 1.000\n",
      "accuracy_score not normalize: 9995.000\n"
     ]
    }
   ],
   "source": [
    "score = f1_score ((typlevel.values[:,0:1]),ff)\n",
    "score2=accuracy_score((typlevel.values[:,0:1]),ff, normalize=True)\n",
    "score3=accuracy_score((typlevel.values[:,0:1]),ff, normalize=False)\n",
    "print('F1 Score: %.3f' % score)\n",
    "print('accuracy_score normalize: %.3f' % score2)\n",
    "print('accuracy_score not normalize: %.3f' % score3)"
   ]
  },
  {
   "cell_type": "code",
   "execution_count": 11,
   "metadata": {},
   "outputs": [],
   "source": [
    "poltest.insert(0, 'id', range(1, 1 + len(ff)))\n",
    "x=pd.DataFrame((poltest.values[:,0:1]))\n",
    "y=pd.DataFrame((poltest.values[:,1:2]))\n",
    "rr=rr.flatten()\n"
   ]
  },
  {
   "cell_type": "code",
   "execution_count": 12,
   "metadata": {},
   "outputs": [
    {
     "name": "stdout",
     "output_type": "stream",
     "text": [
      "[0. 0. 0. ... 0. 0. 0.] [0 0 0 ... 0 0 0] 0.8415524763345538\n"
     ]
    },
    {
     "data": {
      "image/png": "[encoded data removed]",
      "text/plain": [
       "<Figure size 960x800 with 1 Axes>"
      ]
     },
     "metadata": {},
     "output_type": "display_data"
    }
   ],
   "source": [
    "zz=(np.array(dds))\n",
    "zz=zz.flatten()\n",
    "print(zz,rr,optimal_threshold)\n",
    "plt.figure(figsize=(12, 10), dpi=80)\n",
    "plt.scatter(x,y,color='blue')\n",
    "plt.scatter(x[rr[:]>=1],y[rr[:]>=1],c='red')\n",
    "\n",
    "plt.title('Test set the red color indicate outliers')\n",
    "plt.show()"
   ]
  },
  {
   "cell_type": "code",
   "execution_count": 13,
   "metadata": {
    "scrolled": true
   },
   "outputs": [
    {
     "name": "stdout",
     "output_type": "stream",
     "text": [
      "[0. 0. 0. ... 0. 0. 0.] [0 0 0 ... 0 0 0] 0.8415524763345538\n"
     ]
    },
    {
     "data": {
      "image/png": "[encoded data removed]",
      "text/plain": [
       "<Figure size 960x800 with 1 Axes>"
      ]
     },
     "metadata": {},
     "output_type": "display_data"
    }
   ],
   "source": [
    "zz=(np.array(dds))\n",
    "zz=zz.flatten()\n",
    "print(zz,rr,optimal_threshold)\n",
    "plt.figure(figsize=(12, 10), dpi=80)\n",
    "plt.scatter(x,y,color='blue')\n",
    "plt.scatter(x[rr[:]>=1],y[rr[:]>=1],c='red')\n",
    "plt.scatter(x[zz[:]>=1],y[zz[:]>=1],c='g')\n",
    "plt.title('Score data by EIF')\n",
    "plt.show()\n"
   ]
  },
  {
   "cell_type": "code",
   "execution_count": 14,
   "metadata": {},
   "outputs": [
    {
     "name": "stdout",
     "output_type": "stream",
     "text": [
      "[0. 0. 0. ... 0. 0. 0.] [0 0 0 ... 0 0 0] 0.8415524763345538\n"
     ]
    },
    {
     "data": {
      "image/png": "[encoded data removed]",
      "text/plain": [
       "<Figure size 960x800 with 1 Axes>"
      ]
     },
     "metadata": {},
     "output_type": "display_data"
    }
   ],
   "source": [
    "zz=(np.array(dds))\n",
    "zz=zz.flatten()\n",
    "print(zz,rr,optimal_threshold)\n",
    "plt.figure(figsize=(12, 10), dpi=80)\n",
    "plt.scatter(x,y,color='blue')\n",
    "plt.scatter(x[rr[:]>=1],y[rr[:]>=1],c='red')\n",
    "plt.scatter(x[zz[:]>=1],y[zz[:]>=1],c='g')\n",
    "plt.title('Score data by TTDD')\n",
    "plt.show()"
   ]
  },
  {
   "cell_type": "code",
   "execution_count": null,
   "metadata": {},
   "outputs": [],
   "source": []
  }
 ],
 "metadata": {
  "kernelspec": {
   "display_name": "Python 3",
   "language": "python",
   "name": "python3"
  },
  "language_info": {
   "codemirror_mode": {
    "name": "ipython",
    "version": 3
   },
   "file_extension": ".py",
   "mimetype": "text/x-python",
   "name": "python",
   "nbconvert_exporter": "python",
   "pygments_lexer": "ipython3",
   "version": "3.8.8"
  }
 },
 "nbformat": 4,
 "nbformat_minor": 4
}
